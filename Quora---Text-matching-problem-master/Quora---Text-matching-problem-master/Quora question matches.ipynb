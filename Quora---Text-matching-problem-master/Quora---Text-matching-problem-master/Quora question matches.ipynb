{
 "cells": [
  {
   "cell_type": "code",
   "execution_count": 16,
   "metadata": {
    "collapsed": false
   },
   "outputs": [],
   "source": [
    "import os\n",
    "import numpy as np\n",
    "import pandas as pd\n",
    "import matplotlib.pyplot as plt\n",
    "import re\n",
    "\n",
    "from nltk.corpus import stopwords\n",
    "from sklearn.feature_extraction.text import TfidfTransformer\n",
    "\n",
    "%matplotlib inline"
   ]
  },
  {
   "cell_type": "code",
   "execution_count": 2,
   "metadata": {
    "collapsed": false
   },
   "outputs": [
    {
     "data": {
      "text/plain": [
       "['.ipynb_checkpoints',\n",
       " 'Quora question matches.ipynb',\n",
       " 'sample_submission.csv',\n",
       " 'sample_submission.csv.zip',\n",
       " 'submission_1.csv',\n",
       " 'submission_2.csv',\n",
       " 'test.csv',\n",
       " 'test.csv.zip',\n",
       " 'train.csv',\n",
       " 'train.csv.zip']"
      ]
     },
     "execution_count": 2,
     "metadata": {},
     "output_type": "execute_result"
    }
   ],
   "source": [
    "os.listdir(os.getcwd())"
   ]
  },
  {
   "cell_type": "code",
   "execution_count": 3,
   "metadata": {
    "collapsed": false
   },
   "outputs": [
    {
     "data": {
      "text/html": [
       "<div>\n",
       "<table border=\"1\" class=\"dataframe\">\n",
       "  <thead>\n",
       "    <tr style=\"text-align: right;\">\n",
       "      <th></th>\n",
       "      <th>test_id</th>\n",
       "      <th>question1</th>\n",
       "      <th>question2</th>\n",
       "    </tr>\n",
       "  </thead>\n",
       "  <tbody>\n",
       "    <tr>\n",
       "      <th>0</th>\n",
       "      <td>0</td>\n",
       "      <td>How does the Surface Pro himself 4 compare wit...</td>\n",
       "      <td>Why did Microsoft choose core m3 and not core ...</td>\n",
       "    </tr>\n",
       "    <tr>\n",
       "      <th>1</th>\n",
       "      <td>1</td>\n",
       "      <td>Should I have a hair transplant at age 24? How...</td>\n",
       "      <td>How much cost does hair transplant require?</td>\n",
       "    </tr>\n",
       "    <tr>\n",
       "      <th>2</th>\n",
       "      <td>2</td>\n",
       "      <td>What but is the best way to send money from Ch...</td>\n",
       "      <td>What you send money to China?</td>\n",
       "    </tr>\n",
       "    <tr>\n",
       "      <th>3</th>\n",
       "      <td>3</td>\n",
       "      <td>Which food not emulsifiers?</td>\n",
       "      <td>What foods fibre?</td>\n",
       "    </tr>\n",
       "    <tr>\n",
       "      <th>4</th>\n",
       "      <td>4</td>\n",
       "      <td>How \"aberystwyth\" start reading?</td>\n",
       "      <td>How their can I start reading?</td>\n",
       "    </tr>\n",
       "  </tbody>\n",
       "</table>\n",
       "</div>"
      ],
      "text/plain": [
       "   test_id                                          question1  \\\n",
       "0        0  How does the Surface Pro himself 4 compare wit...   \n",
       "1        1  Should I have a hair transplant at age 24? How...   \n",
       "2        2  What but is the best way to send money from Ch...   \n",
       "3        3                        Which food not emulsifiers?   \n",
       "4        4                   How \"aberystwyth\" start reading?   \n",
       "\n",
       "                                           question2  \n",
       "0  Why did Microsoft choose core m3 and not core ...  \n",
       "1        How much cost does hair transplant require?  \n",
       "2                      What you send money to China?  \n",
       "3                                  What foods fibre?  \n",
       "4                     How their can I start reading?  "
      ]
     },
     "execution_count": 3,
     "metadata": {},
     "output_type": "execute_result"
    }
   ],
   "source": [
    "train_qs = pd.read_csv('train.csv')\n",
    "test_qs = pd.read_csv('test.csv')\n",
    "\n",
    "test_qs.head()"
   ]
  },
  {
   "cell_type": "code",
   "execution_count": 4,
   "metadata": {
    "collapsed": true
   },
   "outputs": [],
   "source": [
    "pd.set_option('display.max_rows', 20)"
   ]
  },
  {
   "cell_type": "code",
   "execution_count": 5,
   "metadata": {
    "collapsed": false
   },
   "outputs": [
    {
     "data": {
      "text/html": [
       "<div>\n",
       "<table border=\"1\" class=\"dataframe\">\n",
       "  <thead>\n",
       "    <tr style=\"text-align: right;\">\n",
       "      <th></th>\n",
       "      <th>id</th>\n",
       "      <th>qid1</th>\n",
       "      <th>qid2</th>\n",
       "      <th>question1</th>\n",
       "      <th>question2</th>\n",
       "      <th>is_duplicate</th>\n",
       "    </tr>\n",
       "  </thead>\n",
       "  <tbody>\n",
       "    <tr>\n",
       "      <th>0</th>\n",
       "      <td>0</td>\n",
       "      <td>1</td>\n",
       "      <td>2</td>\n",
       "      <td>What is the step by step guide to invest in sh...</td>\n",
       "      <td>What is the step by step guide to invest in sh...</td>\n",
       "      <td>0</td>\n",
       "    </tr>\n",
       "    <tr>\n",
       "      <th>1</th>\n",
       "      <td>1</td>\n",
       "      <td>3</td>\n",
       "      <td>4</td>\n",
       "      <td>What is the story of Kohinoor (Koh-i-Noor) Dia...</td>\n",
       "      <td>What would happen if the Indian government sto...</td>\n",
       "      <td>0</td>\n",
       "    </tr>\n",
       "    <tr>\n",
       "      <th>2</th>\n",
       "      <td>2</td>\n",
       "      <td>5</td>\n",
       "      <td>6</td>\n",
       "      <td>How can I increase the speed of my internet co...</td>\n",
       "      <td>How can Internet speed be increased by hacking...</td>\n",
       "      <td>0</td>\n",
       "    </tr>\n",
       "    <tr>\n",
       "      <th>3</th>\n",
       "      <td>3</td>\n",
       "      <td>7</td>\n",
       "      <td>8</td>\n",
       "      <td>Why am I mentally very lonely? How can I solve...</td>\n",
       "      <td>Find the remainder when [math]23^{24}[/math] i...</td>\n",
       "      <td>0</td>\n",
       "    </tr>\n",
       "    <tr>\n",
       "      <th>4</th>\n",
       "      <td>4</td>\n",
       "      <td>9</td>\n",
       "      <td>10</td>\n",
       "      <td>Which one dissolve in water quikly sugar, salt...</td>\n",
       "      <td>Which fish would survive in salt water?</td>\n",
       "      <td>0</td>\n",
       "    </tr>\n",
       "    <tr>\n",
       "      <th>5</th>\n",
       "      <td>5</td>\n",
       "      <td>11</td>\n",
       "      <td>12</td>\n",
       "      <td>Astrology: I am a Capricorn Sun Cap moon and c...</td>\n",
       "      <td>I'm a triple Capricorn (Sun, Moon and ascendan...</td>\n",
       "      <td>1</td>\n",
       "    </tr>\n",
       "    <tr>\n",
       "      <th>6</th>\n",
       "      <td>6</td>\n",
       "      <td>13</td>\n",
       "      <td>14</td>\n",
       "      <td>Should I buy tiago?</td>\n",
       "      <td>What keeps childern active and far from phone ...</td>\n",
       "      <td>0</td>\n",
       "    </tr>\n",
       "    <tr>\n",
       "      <th>7</th>\n",
       "      <td>7</td>\n",
       "      <td>15</td>\n",
       "      <td>16</td>\n",
       "      <td>How can I be a good geologist?</td>\n",
       "      <td>What should I do to be a great geologist?</td>\n",
       "      <td>1</td>\n",
       "    </tr>\n",
       "    <tr>\n",
       "      <th>8</th>\n",
       "      <td>8</td>\n",
       "      <td>17</td>\n",
       "      <td>18</td>\n",
       "      <td>When do you use シ instead of し?</td>\n",
       "      <td>When do you use \"&amp;\" instead of \"and\"?</td>\n",
       "      <td>0</td>\n",
       "    </tr>\n",
       "    <tr>\n",
       "      <th>9</th>\n",
       "      <td>9</td>\n",
       "      <td>19</td>\n",
       "      <td>20</td>\n",
       "      <td>Motorola (company): Can I hack my Charter Moto...</td>\n",
       "      <td>How do I hack Motorola DCX3400 for free internet?</td>\n",
       "      <td>0</td>\n",
       "    </tr>\n",
       "    <tr>\n",
       "      <th>...</th>\n",
       "      <td>...</td>\n",
       "      <td>...</td>\n",
       "      <td>...</td>\n",
       "      <td>...</td>\n",
       "      <td>...</td>\n",
       "      <td>...</td>\n",
       "    </tr>\n",
       "    <tr>\n",
       "      <th>404280</th>\n",
       "      <td>404280</td>\n",
       "      <td>537922</td>\n",
       "      <td>537923</td>\n",
       "      <td>What are some outfit ideas to wear to a frat p...</td>\n",
       "      <td>What are some outfit ideas wear to a frat them...</td>\n",
       "      <td>1</td>\n",
       "    </tr>\n",
       "    <tr>\n",
       "      <th>404281</th>\n",
       "      <td>404281</td>\n",
       "      <td>99131</td>\n",
       "      <td>81495</td>\n",
       "      <td>Why is Manaphy childish in Pokémon Ranger and ...</td>\n",
       "      <td>Why is Manaphy annoying in Pokemon ranger and ...</td>\n",
       "      <td>1</td>\n",
       "    </tr>\n",
       "    <tr>\n",
       "      <th>404282</th>\n",
       "      <td>404282</td>\n",
       "      <td>1931</td>\n",
       "      <td>16773</td>\n",
       "      <td>How does a long distance relationship work?</td>\n",
       "      <td>How are long distance relationships maintained?</td>\n",
       "      <td>1</td>\n",
       "    </tr>\n",
       "    <tr>\n",
       "      <th>404283</th>\n",
       "      <td>404283</td>\n",
       "      <td>537924</td>\n",
       "      <td>537925</td>\n",
       "      <td>What do you think of the removal of the MagSaf...</td>\n",
       "      <td>What will the CPU upgrade to the 2016 Apple Ma...</td>\n",
       "      <td>0</td>\n",
       "    </tr>\n",
       "    <tr>\n",
       "      <th>404284</th>\n",
       "      <td>404284</td>\n",
       "      <td>537926</td>\n",
       "      <td>537927</td>\n",
       "      <td>What does Jainism say about homosexuality?</td>\n",
       "      <td>What does Jainism say about Gays and Homosexua...</td>\n",
       "      <td>1</td>\n",
       "    </tr>\n",
       "    <tr>\n",
       "      <th>404285</th>\n",
       "      <td>404285</td>\n",
       "      <td>433578</td>\n",
       "      <td>379845</td>\n",
       "      <td>How many keywords are there in the Racket prog...</td>\n",
       "      <td>How many keywords are there in PERL Programmin...</td>\n",
       "      <td>0</td>\n",
       "    </tr>\n",
       "    <tr>\n",
       "      <th>404286</th>\n",
       "      <td>404286</td>\n",
       "      <td>18840</td>\n",
       "      <td>155606</td>\n",
       "      <td>Do you believe there is life after death?</td>\n",
       "      <td>Is it true that there is life after death?</td>\n",
       "      <td>1</td>\n",
       "    </tr>\n",
       "    <tr>\n",
       "      <th>404287</th>\n",
       "      <td>404287</td>\n",
       "      <td>537928</td>\n",
       "      <td>537929</td>\n",
       "      <td>What is one coin?</td>\n",
       "      <td>What's this coin?</td>\n",
       "      <td>0</td>\n",
       "    </tr>\n",
       "    <tr>\n",
       "      <th>404288</th>\n",
       "      <td>404288</td>\n",
       "      <td>537930</td>\n",
       "      <td>537931</td>\n",
       "      <td>What is the approx annual cost of living while...</td>\n",
       "      <td>I am having little hairfall problem but I want...</td>\n",
       "      <td>0</td>\n",
       "    </tr>\n",
       "    <tr>\n",
       "      <th>404289</th>\n",
       "      <td>404289</td>\n",
       "      <td>537932</td>\n",
       "      <td>537933</td>\n",
       "      <td>What is like to have sex with cousin?</td>\n",
       "      <td>What is it like to have sex with your cousin?</td>\n",
       "      <td>0</td>\n",
       "    </tr>\n",
       "  </tbody>\n",
       "</table>\n",
       "<p>404290 rows × 6 columns</p>\n",
       "</div>"
      ],
      "text/plain": [
       "            id    qid1    qid2  \\\n",
       "0            0       1       2   \n",
       "1            1       3       4   \n",
       "2            2       5       6   \n",
       "3            3       7       8   \n",
       "4            4       9      10   \n",
       "5            5      11      12   \n",
       "6            6      13      14   \n",
       "7            7      15      16   \n",
       "8            8      17      18   \n",
       "9            9      19      20   \n",
       "...        ...     ...     ...   \n",
       "404280  404280  537922  537923   \n",
       "404281  404281   99131   81495   \n",
       "404282  404282    1931   16773   \n",
       "404283  404283  537924  537925   \n",
       "404284  404284  537926  537927   \n",
       "404285  404285  433578  379845   \n",
       "404286  404286   18840  155606   \n",
       "404287  404287  537928  537929   \n",
       "404288  404288  537930  537931   \n",
       "404289  404289  537932  537933   \n",
       "\n",
       "                                                question1  \\\n",
       "0       What is the step by step guide to invest in sh...   \n",
       "1       What is the story of Kohinoor (Koh-i-Noor) Dia...   \n",
       "2       How can I increase the speed of my internet co...   \n",
       "3       Why am I mentally very lonely? How can I solve...   \n",
       "4       Which one dissolve in water quikly sugar, salt...   \n",
       "5       Astrology: I am a Capricorn Sun Cap moon and c...   \n",
       "6                                     Should I buy tiago?   \n",
       "7                          How can I be a good geologist?   \n",
       "8                         When do you use シ instead of し?   \n",
       "9       Motorola (company): Can I hack my Charter Moto...   \n",
       "...                                                   ...   \n",
       "404280  What are some outfit ideas to wear to a frat p...   \n",
       "404281  Why is Manaphy childish in Pokémon Ranger and ...   \n",
       "404282        How does a long distance relationship work?   \n",
       "404283  What do you think of the removal of the MagSaf...   \n",
       "404284         What does Jainism say about homosexuality?   \n",
       "404285  How many keywords are there in the Racket prog...   \n",
       "404286          Do you believe there is life after death?   \n",
       "404287                                  What is one coin?   \n",
       "404288  What is the approx annual cost of living while...   \n",
       "404289              What is like to have sex with cousin?   \n",
       "\n",
       "                                                question2  is_duplicate  \n",
       "0       What is the step by step guide to invest in sh...             0  \n",
       "1       What would happen if the Indian government sto...             0  \n",
       "2       How can Internet speed be increased by hacking...             0  \n",
       "3       Find the remainder when [math]23^{24}[/math] i...             0  \n",
       "4                 Which fish would survive in salt water?             0  \n",
       "5       I'm a triple Capricorn (Sun, Moon and ascendan...             1  \n",
       "6       What keeps childern active and far from phone ...             0  \n",
       "7               What should I do to be a great geologist?             1  \n",
       "8                   When do you use \"&\" instead of \"and\"?             0  \n",
       "9       How do I hack Motorola DCX3400 for free internet?             0  \n",
       "...                                                   ...           ...  \n",
       "404280  What are some outfit ideas wear to a frat them...             1  \n",
       "404281  Why is Manaphy annoying in Pokemon ranger and ...             1  \n",
       "404282    How are long distance relationships maintained?             1  \n",
       "404283  What will the CPU upgrade to the 2016 Apple Ma...             0  \n",
       "404284  What does Jainism say about Gays and Homosexua...             1  \n",
       "404285  How many keywords are there in PERL Programmin...             0  \n",
       "404286         Is it true that there is life after death?             1  \n",
       "404287                                  What's this coin?             0  \n",
       "404288  I am having little hairfall problem but I want...             0  \n",
       "404289      What is it like to have sex with your cousin?             0  \n",
       "\n",
       "[404290 rows x 6 columns]"
      ]
     },
     "execution_count": 5,
     "metadata": {},
     "output_type": "execute_result"
    }
   ],
   "source": [
    "train_qs"
   ]
  },
  {
   "cell_type": "code",
   "execution_count": 7,
   "metadata": {
    "collapsed": false
   },
   "outputs": [
    {
     "name": "stdout",
     "output_type": "stream",
     "text": [
      "What is the step by step guide to invest in share market in india?\n",
      "What is the step by step guide to invest in share market?\n",
      "0\n"
     ]
    }
   ],
   "source": [
    "print train_qs.loc[0,'question1']\n",
    "print train_qs.loc[0,'question2']\n",
    "print train_qs.loc[0,'is_duplicate']\n",
    "\n",
    "#To be noted: The questions even though are equal word-to-word till 'market', 'in india' makes the difference"
   ]
  },
  {
   "cell_type": "code",
   "execution_count": 8,
   "metadata": {
    "collapsed": false
   },
   "outputs": [
    {
     "name": "stdout",
     "output_type": "stream",
     "text": [
      "When do you use シ instead of し?\n",
      "When do you use \"&\" instead of \"and\"?\n",
      "0\n"
     ]
    }
   ],
   "source": [
    "print train_qs.loc[8,'question1']\n",
    "print train_qs.loc[8,'question2']\n",
    "print train_qs.loc[8,'is_duplicate']\n",
    "\n",
    "#To be noted: Special characters are causing the difference. So, just removing the special charaters will not help"
   ]
  },
  {
   "cell_type": "code",
   "execution_count": 9,
   "metadata": {
    "collapsed": false
   },
   "outputs": [
    {
     "data": {
      "text/plain": [
       "(404290, 6)"
      ]
     },
     "execution_count": 9,
     "metadata": {},
     "output_type": "execute_result"
    }
   ],
   "source": [
    "train_qs.shape #400,000 records in total"
   ]
  },
  {
   "cell_type": "code",
   "execution_count": 10,
   "metadata": {
    "collapsed": false
   },
   "outputs": [
    {
     "data": {
      "text/html": [
       "<div>\n",
       "<table border=\"1\" class=\"dataframe\">\n",
       "  <thead>\n",
       "    <tr style=\"text-align: right;\">\n",
       "      <th></th>\n",
       "      <th>id</th>\n",
       "      <th>qid1</th>\n",
       "      <th>qid2</th>\n",
       "      <th>question1</th>\n",
       "      <th>question2</th>\n",
       "      <th>is_duplicate</th>\n",
       "    </tr>\n",
       "  </thead>\n",
       "  <tbody>\n",
       "    <tr>\n",
       "      <th>5</th>\n",
       "      <td>5</td>\n",
       "      <td>11</td>\n",
       "      <td>12</td>\n",
       "      <td>Astrology: I am a Capricorn Sun Cap moon and c...</td>\n",
       "      <td>I'm a triple Capricorn (Sun, Moon and ascendan...</td>\n",
       "      <td>1</td>\n",
       "    </tr>\n",
       "    <tr>\n",
       "      <th>7</th>\n",
       "      <td>7</td>\n",
       "      <td>15</td>\n",
       "      <td>16</td>\n",
       "      <td>How can I be a good geologist?</td>\n",
       "      <td>What should I do to be a great geologist?</td>\n",
       "      <td>1</td>\n",
       "    </tr>\n",
       "    <tr>\n",
       "      <th>11</th>\n",
       "      <td>11</td>\n",
       "      <td>23</td>\n",
       "      <td>24</td>\n",
       "      <td>How do I read and find my YouTube comments?</td>\n",
       "      <td>How can I see all my Youtube comments?</td>\n",
       "      <td>1</td>\n",
       "    </tr>\n",
       "    <tr>\n",
       "      <th>12</th>\n",
       "      <td>12</td>\n",
       "      <td>25</td>\n",
       "      <td>26</td>\n",
       "      <td>What can make Physics easy to learn?</td>\n",
       "      <td>How can you make physics easy to learn?</td>\n",
       "      <td>1</td>\n",
       "    </tr>\n",
       "    <tr>\n",
       "      <th>13</th>\n",
       "      <td>13</td>\n",
       "      <td>27</td>\n",
       "      <td>28</td>\n",
       "      <td>What was your first sexual experience like?</td>\n",
       "      <td>What was your first sexual experience?</td>\n",
       "      <td>1</td>\n",
       "    </tr>\n",
       "    <tr>\n",
       "      <th>...</th>\n",
       "      <td>...</td>\n",
       "      <td>...</td>\n",
       "      <td>...</td>\n",
       "      <td>...</td>\n",
       "      <td>...</td>\n",
       "      <td>...</td>\n",
       "    </tr>\n",
       "    <tr>\n",
       "      <th>404280</th>\n",
       "      <td>404280</td>\n",
       "      <td>537922</td>\n",
       "      <td>537923</td>\n",
       "      <td>What are some outfit ideas to wear to a frat p...</td>\n",
       "      <td>What are some outfit ideas wear to a frat them...</td>\n",
       "      <td>1</td>\n",
       "    </tr>\n",
       "    <tr>\n",
       "      <th>404281</th>\n",
       "      <td>404281</td>\n",
       "      <td>99131</td>\n",
       "      <td>81495</td>\n",
       "      <td>Why is Manaphy childish in Pokémon Ranger and ...</td>\n",
       "      <td>Why is Manaphy annoying in Pokemon ranger and ...</td>\n",
       "      <td>1</td>\n",
       "    </tr>\n",
       "    <tr>\n",
       "      <th>404282</th>\n",
       "      <td>404282</td>\n",
       "      <td>1931</td>\n",
       "      <td>16773</td>\n",
       "      <td>How does a long distance relationship work?</td>\n",
       "      <td>How are long distance relationships maintained?</td>\n",
       "      <td>1</td>\n",
       "    </tr>\n",
       "    <tr>\n",
       "      <th>404284</th>\n",
       "      <td>404284</td>\n",
       "      <td>537926</td>\n",
       "      <td>537927</td>\n",
       "      <td>What does Jainism say about homosexuality?</td>\n",
       "      <td>What does Jainism say about Gays and Homosexua...</td>\n",
       "      <td>1</td>\n",
       "    </tr>\n",
       "    <tr>\n",
       "      <th>404286</th>\n",
       "      <td>404286</td>\n",
       "      <td>18840</td>\n",
       "      <td>155606</td>\n",
       "      <td>Do you believe there is life after death?</td>\n",
       "      <td>Is it true that there is life after death?</td>\n",
       "      <td>1</td>\n",
       "    </tr>\n",
       "  </tbody>\n",
       "</table>\n",
       "<p>149263 rows × 6 columns</p>\n",
       "</div>"
      ],
      "text/plain": [
       "            id    qid1    qid2  \\\n",
       "5            5      11      12   \n",
       "7            7      15      16   \n",
       "11          11      23      24   \n",
       "12          12      25      26   \n",
       "13          13      27      28   \n",
       "...        ...     ...     ...   \n",
       "404280  404280  537922  537923   \n",
       "404281  404281   99131   81495   \n",
       "404282  404282    1931   16773   \n",
       "404284  404284  537926  537927   \n",
       "404286  404286   18840  155606   \n",
       "\n",
       "                                                question1  \\\n",
       "5       Astrology: I am a Capricorn Sun Cap moon and c...   \n",
       "7                          How can I be a good geologist?   \n",
       "11            How do I read and find my YouTube comments?   \n",
       "12                   What can make Physics easy to learn?   \n",
       "13            What was your first sexual experience like?   \n",
       "...                                                   ...   \n",
       "404280  What are some outfit ideas to wear to a frat p...   \n",
       "404281  Why is Manaphy childish in Pokémon Ranger and ...   \n",
       "404282        How does a long distance relationship work?   \n",
       "404284         What does Jainism say about homosexuality?   \n",
       "404286          Do you believe there is life after death?   \n",
       "\n",
       "                                                question2  is_duplicate  \n",
       "5       I'm a triple Capricorn (Sun, Moon and ascendan...             1  \n",
       "7               What should I do to be a great geologist?             1  \n",
       "11                 How can I see all my Youtube comments?             1  \n",
       "12                How can you make physics easy to learn?             1  \n",
       "13                 What was your first sexual experience?             1  \n",
       "...                                                   ...           ...  \n",
       "404280  What are some outfit ideas wear to a frat them...             1  \n",
       "404281  Why is Manaphy annoying in Pokemon ranger and ...             1  \n",
       "404282    How are long distance relationships maintained?             1  \n",
       "404284  What does Jainism say about Gays and Homosexua...             1  \n",
       "404286         Is it true that there is life after death?             1  \n",
       "\n",
       "[149263 rows x 6 columns]"
      ]
     },
     "execution_count": 10,
     "metadata": {},
     "output_type": "execute_result"
    }
   ],
   "source": [
    "#Analysing the duplicate questions\n",
    "train_qs[train_qs['is_duplicate']==1]"
   ]
  },
  {
   "cell_type": "code",
   "execution_count": 11,
   "metadata": {
    "collapsed": false
   },
   "outputs": [
    {
     "data": {
      "text/html": [
       "<div>\n",
       "<table border=\"1\" class=\"dataframe\">\n",
       "  <thead>\n",
       "    <tr style=\"text-align: right;\">\n",
       "      <th></th>\n",
       "      <th>id</th>\n",
       "      <th>qid1</th>\n",
       "      <th>qid2</th>\n",
       "      <th>question1</th>\n",
       "      <th>question2</th>\n",
       "      <th>is_duplicate</th>\n",
       "    </tr>\n",
       "  </thead>\n",
       "  <tbody>\n",
       "    <tr>\n",
       "      <th>0</th>\n",
       "      <td>0</td>\n",
       "      <td>1</td>\n",
       "      <td>2</td>\n",
       "      <td>What is the step by step guide to invest in sh...</td>\n",
       "      <td>What is the step by step guide to invest in sh...</td>\n",
       "      <td>0</td>\n",
       "    </tr>\n",
       "    <tr>\n",
       "      <th>1</th>\n",
       "      <td>1</td>\n",
       "      <td>3</td>\n",
       "      <td>4</td>\n",
       "      <td>What is the story of Kohinoor (Koh-i-Noor) Dia...</td>\n",
       "      <td>What would happen if the Indian government sto...</td>\n",
       "      <td>0</td>\n",
       "    </tr>\n",
       "    <tr>\n",
       "      <th>2</th>\n",
       "      <td>2</td>\n",
       "      <td>5</td>\n",
       "      <td>6</td>\n",
       "      <td>How can I increase the speed of my internet co...</td>\n",
       "      <td>How can Internet speed be increased by hacking...</td>\n",
       "      <td>0</td>\n",
       "    </tr>\n",
       "    <tr>\n",
       "      <th>3</th>\n",
       "      <td>3</td>\n",
       "      <td>7</td>\n",
       "      <td>8</td>\n",
       "      <td>Why am I mentally very lonely? How can I solve...</td>\n",
       "      <td>Find the remainder when [math]23^{24}[/math] i...</td>\n",
       "      <td>0</td>\n",
       "    </tr>\n",
       "    <tr>\n",
       "      <th>4</th>\n",
       "      <td>4</td>\n",
       "      <td>9</td>\n",
       "      <td>10</td>\n",
       "      <td>Which one dissolve in water quikly sugar, salt...</td>\n",
       "      <td>Which fish would survive in salt water?</td>\n",
       "      <td>0</td>\n",
       "    </tr>\n",
       "    <tr>\n",
       "      <th>...</th>\n",
       "      <td>...</td>\n",
       "      <td>...</td>\n",
       "      <td>...</td>\n",
       "      <td>...</td>\n",
       "      <td>...</td>\n",
       "      <td>...</td>\n",
       "    </tr>\n",
       "    <tr>\n",
       "      <th>404283</th>\n",
       "      <td>404283</td>\n",
       "      <td>537924</td>\n",
       "      <td>537925</td>\n",
       "      <td>What do you think of the removal of the MagSaf...</td>\n",
       "      <td>What will the CPU upgrade to the 2016 Apple Ma...</td>\n",
       "      <td>0</td>\n",
       "    </tr>\n",
       "    <tr>\n",
       "      <th>404285</th>\n",
       "      <td>404285</td>\n",
       "      <td>433578</td>\n",
       "      <td>379845</td>\n",
       "      <td>How many keywords are there in the Racket prog...</td>\n",
       "      <td>How many keywords are there in PERL Programmin...</td>\n",
       "      <td>0</td>\n",
       "    </tr>\n",
       "    <tr>\n",
       "      <th>404287</th>\n",
       "      <td>404287</td>\n",
       "      <td>537928</td>\n",
       "      <td>537929</td>\n",
       "      <td>What is one coin?</td>\n",
       "      <td>What's this coin?</td>\n",
       "      <td>0</td>\n",
       "    </tr>\n",
       "    <tr>\n",
       "      <th>404288</th>\n",
       "      <td>404288</td>\n",
       "      <td>537930</td>\n",
       "      <td>537931</td>\n",
       "      <td>What is the approx annual cost of living while...</td>\n",
       "      <td>I am having little hairfall problem but I want...</td>\n",
       "      <td>0</td>\n",
       "    </tr>\n",
       "    <tr>\n",
       "      <th>404289</th>\n",
       "      <td>404289</td>\n",
       "      <td>537932</td>\n",
       "      <td>537933</td>\n",
       "      <td>What is like to have sex with cousin?</td>\n",
       "      <td>What is it like to have sex with your cousin?</td>\n",
       "      <td>0</td>\n",
       "    </tr>\n",
       "  </tbody>\n",
       "</table>\n",
       "<p>255027 rows × 6 columns</p>\n",
       "</div>"
      ],
      "text/plain": [
       "            id    qid1    qid2  \\\n",
       "0            0       1       2   \n",
       "1            1       3       4   \n",
       "2            2       5       6   \n",
       "3            3       7       8   \n",
       "4            4       9      10   \n",
       "...        ...     ...     ...   \n",
       "404283  404283  537924  537925   \n",
       "404285  404285  433578  379845   \n",
       "404287  404287  537928  537929   \n",
       "404288  404288  537930  537931   \n",
       "404289  404289  537932  537933   \n",
       "\n",
       "                                                question1  \\\n",
       "0       What is the step by step guide to invest in sh...   \n",
       "1       What is the story of Kohinoor (Koh-i-Noor) Dia...   \n",
       "2       How can I increase the speed of my internet co...   \n",
       "3       Why am I mentally very lonely? How can I solve...   \n",
       "4       Which one dissolve in water quikly sugar, salt...   \n",
       "...                                                   ...   \n",
       "404283  What do you think of the removal of the MagSaf...   \n",
       "404285  How many keywords are there in the Racket prog...   \n",
       "404287                                  What is one coin?   \n",
       "404288  What is the approx annual cost of living while...   \n",
       "404289              What is like to have sex with cousin?   \n",
       "\n",
       "                                                question2  is_duplicate  \n",
       "0       What is the step by step guide to invest in sh...             0  \n",
       "1       What would happen if the Indian government sto...             0  \n",
       "2       How can Internet speed be increased by hacking...             0  \n",
       "3       Find the remainder when [math]23^{24}[/math] i...             0  \n",
       "4                 Which fish would survive in salt water?             0  \n",
       "...                                                   ...           ...  \n",
       "404283  What will the CPU upgrade to the 2016 Apple Ma...             0  \n",
       "404285  How many keywords are there in PERL Programmin...             0  \n",
       "404287                                  What's this coin?             0  \n",
       "404288  I am having little hairfall problem but I want...             0  \n",
       "404289      What is it like to have sex with your cousin?             0  \n",
       "\n",
       "[255027 rows x 6 columns]"
      ]
     },
     "execution_count": 11,
     "metadata": {},
     "output_type": "execute_result"
    }
   ],
   "source": [
    "train_qs[train_qs['is_duplicate']==0]"
   ]
  },
  {
   "cell_type": "code",
   "execution_count": 12,
   "metadata": {
    "collapsed": false
   },
   "outputs": [
    {
     "name": "stdout",
     "output_type": "stream",
     "text": [
      "404290\n",
      "404290\n",
      "290654\n",
      "299364\n"
     ]
    }
   ],
   "source": [
    "#See if there are repeated questions\n",
    "print len(train_qs['qid1'])\n",
    "print len(train_qs['qid2'])\n",
    "\n",
    "print len(train_qs['qid1'].unique())\n",
    "print len(train_qs['qid2'].unique())"
   ]
  },
  {
   "cell_type": "code",
   "execution_count": 13,
   "metadata": {
    "collapsed": false
   },
   "outputs": [
    {
     "name": "stdout",
     "output_type": "stream",
     "text": [
      "0.369197853026\n"
     ]
    },
    {
     "data": {
      "text/plain": [
       "<Container object of 2 artists>"
      ]
     },
     "execution_count": 13,
     "metadata": {},
     "output_type": "execute_result"
    },
    {
     "data": {
      "image/png": "[encoded data removed]",
      "text/plain": [
       "<matplotlib.figure.Figure at 0x85b72e8>"
      ]
     },
     "metadata": {},
     "output_type": "display_data"
    }
   ],
   "source": [
    "#Printing the percentage of duplicate questions\n",
    "print train_qs['is_duplicate'].sum()/float(len(train_qs['is_duplicate']))\n",
    "\n",
    "plt.bar(range(0,2),[train_qs['is_duplicate'].sum(),(1- train_qs['is_duplicate']).sum()] )"
   ]
  },
  {
   "cell_type": "code",
   "execution_count": 14,
   "metadata": {
    "collapsed": false
   },
   "outputs": [
    {
     "name": "stdout",
     "output_type": "stream",
     "text": [
      "()\n"
     ]
    },
    {
     "data": {
      "image/png": "[encoded data removed]",
      "text/plain": [
       "<matplotlib.figure.Figure at 0x86c7ef0>"
      ]
     },
     "metadata": {},
     "output_type": "display_data"
    }
   ],
   "source": [
    "plt.figure(figsize=(15, 5))\n",
    "plt.hist(train_qs['qid1'].tolist(), bins = 250)\n",
    "print()"
   ]
  },
  {
   "cell_type": "code",
   "execution_count": 5,
   "metadata": {
    "collapsed": false
   },
   "outputs": [],
   "source": [
    "#### Training data\n",
    "question1_freq = pd.DataFrame(train_qs[['id','qid1']].groupby(['qid1']).size())\n",
    "question2_freq = pd.DataFrame(train_qs[['id','qid2']].groupby(['qid2']).size())\n",
    "\n",
    "question1_freq.columns = ['q1_counts']\n",
    "question2_freq.columns = ['q2_counts']\n",
    "\n",
    "question1_freq['qid1'] = question1_freq.index\n",
    "question2_freq['qid2'] = question2_freq.index\n",
    "\n",
    "##### Test data\n",
    "test_question1_freq = pd.DataFrame(test_qs[['test_id','question1']].groupby(['question1']).size())\n",
    "test_question2_freq = pd.DataFrame(test_qs[['test_id','question2']].groupby(['question2']).size())\n",
    "\n",
    "test_question1_freq.columns = ['q1_counts']\n",
    "test_question2_freq.columns = ['q2_counts']\n",
    "\n",
    "test_question1_freq['question1'] = test_question1_freq.index\n",
    "\n",
    "test_question2_freq['question2'] = test_question2_freq.index\n",
    "\n"
   ]
  },
  {
   "cell_type": "code",
   "execution_count": 6,
   "metadata": {
    "collapsed": false
   },
   "outputs": [
    {
     "data": {
      "text/html": [
       "<div>\n",
       "<table border=\"1\" class=\"dataframe\">\n",
       "  <thead>\n",
       "    <tr style=\"text-align: right;\">\n",
       "      <th></th>\n",
       "      <th>q1_counts</th>\n",
       "      <th>question1</th>\n",
       "    </tr>\n",
       "    <tr>\n",
       "      <th>question1</th>\n",
       "      <th></th>\n",
       "      <th></th>\n",
       "    </tr>\n",
       "  </thead>\n",
       "  <tbody>\n",
       "    <tr>\n",
       "      <th>A tank 10m long and 5m wide has water up to a depth of 3m. What is the total area of the wet surface?</th>\n",
       "      <td>1</td>\n",
       "      <td>A tank 10m long and 5m wide has water up to a...</td>\n",
       "    </tr>\n",
       "    <tr>\n",
       "      <th>Can I watch a repeat of a full cricket match broadcast by the Star network in India?</th>\n",
       "      <td>2</td>\n",
       "      <td>Can I watch a repeat of a full cricket match ...</td>\n",
       "    </tr>\n",
       "    <tr>\n",
       "      <th>Did you meet your significant other through serendipity, coincidences, chanced encounters or fate? Tell us your story.</th>\n",
       "      <td>1</td>\n",
       "      <td>Did you meet your significant other through s...</td>\n",
       "    </tr>\n",
       "    <tr>\n",
       "      <th>How do I lose contact with someone?</th>\n",
       "      <td>2</td>\n",
       "      <td>How do I lose contact with someone?</td>\n",
       "    </tr>\n",
       "    <tr>\n",
       "      <th>How do I make the time lapse images using an EOS 70D, with an intervalometer?</th>\n",
       "      <td>1</td>\n",
       "      <td>How do I make the time lapse images using an ...</td>\n",
       "    </tr>\n",
       "  </tbody>\n",
       "</table>\n",
       "</div>"
      ],
      "text/plain": [
       "                                                    q1_counts  \\\n",
       "question1                                                       \n",
       " A tank 10m long and 5m wide has water up to a ...          1   \n",
       " Can I watch a repeat of a full cricket match b...          2   \n",
       " Did you meet your significant other through se...          1   \n",
       " How do I lose contact with someone?                        2   \n",
       " How do I make the time lapse images using an E...          1   \n",
       "\n",
       "                                                                                            question1  \n",
       "question1                                                                                              \n",
       " A tank 10m long and 5m wide has water up to a ...   A tank 10m long and 5m wide has water up to a...  \n",
       " Can I watch a repeat of a full cricket match b...   Can I watch a repeat of a full cricket match ...  \n",
       " Did you meet your significant other through se...   Did you meet your significant other through s...  \n",
       " How do I lose contact with someone?                              How do I lose contact with someone?  \n",
       " How do I make the time lapse images using an E...   How do I make the time lapse images using an ...  "
      ]
     },
     "execution_count": 6,
     "metadata": {},
     "output_type": "execute_result"
    }
   ],
   "source": [
    "test_question1_freq.head()"
   ]
  },
  {
   "cell_type": "code",
   "execution_count": 7,
   "metadata": {
    "collapsed": false
   },
   "outputs": [],
   "source": [
    "#### Train data\n",
    "train_qs1 = pd.merge(train_qs,question1_freq,on = ['qid1']).sort_values(by = 'id')\n",
    "\n",
    "train_qs2 = pd.merge(train_qs1, question2_freq, on = ['qid2']).sort_values(by = 'id')\n",
    "train_qs2.index = train_qs2[['id']]\n",
    "\n",
    "#### Test data\n",
    "test_qs1 = pd.merge(test_qs, test_question1_freq, on = ['question1']).sort_values(by = 'test_id')\n",
    "\n",
    "test_qs2 = pd.merge(test_qs1, test_question2_freq, on = ['question2']).sort_values(by = 'test_id')\n",
    "test_qs2.index = test_qs2[['test_id']]"
   ]
  },
  {
   "cell_type": "code",
   "execution_count": 46,
   "metadata": {
    "collapsed": false
   },
   "outputs": [
    {
     "data": {
      "text/html": [
       "<div>\n",
       "<table border=\"1\" class=\"dataframe\">\n",
       "  <thead>\n",
       "    <tr style=\"text-align: right;\">\n",
       "      <th></th>\n",
       "      <th>id</th>\n",
       "      <th>qid1</th>\n",
       "      <th>qid2</th>\n",
       "      <th>question1</th>\n",
       "      <th>question2</th>\n",
       "      <th>is_duplicate</th>\n",
       "      <th>q1_counts</th>\n",
       "      <th>q2_counts</th>\n",
       "      <th>question1_clean</th>\n",
       "      <th>question2_clean</th>\n",
       "      <th>commanality_score</th>\n",
       "    </tr>\n",
       "  </thead>\n",
       "  <tbody>\n",
       "    <tr>\n",
       "      <th>404285</th>\n",
       "      <td>404285</td>\n",
       "      <td>433578</td>\n",
       "      <td>379845</td>\n",
       "      <td>how many keywords are there in the racket prog...</td>\n",
       "      <td>how many keywords are there in perl programmin...</td>\n",
       "      <td>0</td>\n",
       "      <td>2</td>\n",
       "      <td>2</td>\n",
       "      <td>how many keywords are there in the racket prog...</td>\n",
       "      <td>how many keywords are there in perl programmin...</td>\n",
       "      <td>0.857143</td>\n",
       "    </tr>\n",
       "    <tr>\n",
       "      <th>404286</th>\n",
       "      <td>404286</td>\n",
       "      <td>18840</td>\n",
       "      <td>155606</td>\n",
       "      <td>do you believe there is life after death?</td>\n",
       "      <td>is it true that there is life after death?</td>\n",
       "      <td>1</td>\n",
       "      <td>12</td>\n",
       "      <td>1</td>\n",
       "      <td>do you believe there is life after death</td>\n",
       "      <td>is it true that there is life after death</td>\n",
       "      <td>0.666667</td>\n",
       "    </tr>\n",
       "    <tr>\n",
       "      <th>404287</th>\n",
       "      <td>404287</td>\n",
       "      <td>537928</td>\n",
       "      <td>537929</td>\n",
       "      <td>what is one coin?</td>\n",
       "      <td>what's this coin?</td>\n",
       "      <td>0</td>\n",
       "      <td>1</td>\n",
       "      <td>1</td>\n",
       "      <td>what is one coin</td>\n",
       "      <td>what s this coin</td>\n",
       "      <td>0.666667</td>\n",
       "    </tr>\n",
       "    <tr>\n",
       "      <th>404288</th>\n",
       "      <td>404288</td>\n",
       "      <td>537930</td>\n",
       "      <td>537931</td>\n",
       "      <td>what is the approx annual cost of living while...</td>\n",
       "      <td>i am having little hairfall problem but i want...</td>\n",
       "      <td>0</td>\n",
       "      <td>1</td>\n",
       "      <td>1</td>\n",
       "      <td>what is the approx annual cost of living while...</td>\n",
       "      <td>i am having little hairfall problem but i want...</td>\n",
       "      <td>0.000000</td>\n",
       "    </tr>\n",
       "    <tr>\n",
       "      <th>404289</th>\n",
       "      <td>404289</td>\n",
       "      <td>537932</td>\n",
       "      <td>537933</td>\n",
       "      <td>what is like to have sex with cousin?</td>\n",
       "      <td>what is it like to have sex with your cousin?</td>\n",
       "      <td>0</td>\n",
       "      <td>1</td>\n",
       "      <td>1</td>\n",
       "      <td>what is like to have sex with cousin</td>\n",
       "      <td>what is it like to have sex with your cousin</td>\n",
       "      <td>1.000000</td>\n",
       "    </tr>\n",
       "  </tbody>\n",
       "</table>\n",
       "</div>"
      ],
      "text/plain": [
       "            id    qid1    qid2  \\\n",
       "404285  404285  433578  379845   \n",
       "404286  404286   18840  155606   \n",
       "404287  404287  537928  537929   \n",
       "404288  404288  537930  537931   \n",
       "404289  404289  537932  537933   \n",
       "\n",
       "                                                question1  \\\n",
       "404285  how many keywords are there in the racket prog...   \n",
       "404286          do you believe there is life after death?   \n",
       "404287                                  what is one coin?   \n",
       "404288  what is the approx annual cost of living while...   \n",
       "404289              what is like to have sex with cousin?   \n",
       "\n",
       "                                                question2  is_duplicate  \\\n",
       "404285  how many keywords are there in perl programmin...             0   \n",
       "404286         is it true that there is life after death?             1   \n",
       "404287                                  what's this coin?             0   \n",
       "404288  i am having little hairfall problem but i want...             0   \n",
       "404289      what is it like to have sex with your cousin?             0   \n",
       "\n",
       "        q1_counts  q2_counts  \\\n",
       "404285          2          2   \n",
       "404286         12          1   \n",
       "404287          1          1   \n",
       "404288          1          1   \n",
       "404289          1          1   \n",
       "\n",
       "                                          question1_clean  \\\n",
       "404285  how many keywords are there in the racket prog...   \n",
       "404286          do you believe there is life after death    \n",
       "404287                                  what is one coin    \n",
       "404288  what is the approx annual cost of living while...   \n",
       "404289              what is like to have sex with cousin    \n",
       "\n",
       "                                          question2_clean  commanality_score  \n",
       "404285  how many keywords are there in perl programmin...           0.857143  \n",
       "404286         is it true that there is life after death            0.666667  \n",
       "404287                                  what s this coin            0.666667  \n",
       "404288  i am having little hairfall problem but i want...           0.000000  \n",
       "404289      what is it like to have sex with your cousin            1.000000  "
      ]
     },
     "execution_count": 46,
     "metadata": {},
     "output_type": "execute_result"
    }
   ],
   "source": [
    "train_qs2.tail()"
   ]
  },
  {
   "cell_type": "markdown",
   "metadata": {},
   "source": [
    "### Does the frequency of a question affect the duplicacy"
   ]
  },
  {
   "cell_type": "code",
   "execution_count": 120,
   "metadata": {
    "collapsed": false
   },
   "outputs": [
    {
     "data": {
      "text/plain": [
       "<matplotlib.axes._subplots.AxesSubplot at 0x2c0fc048>"
      ]
     },
     "execution_count": 120,
     "metadata": {},
     "output_type": "execute_result"
    },
    {
     "data": {
      "image/png": "[encoded data removed]",
      "text/plain": [
       "<matplotlib.figure.Figure at 0x2858bda0>"
      ]
     },
     "metadata": {},
     "output_type": "display_data"
    }
   ],
   "source": [
    "train_qs2[train_qs2['is_duplicate']== 1]['q1_counts'].hist(bins = 20)\n"
   ]
  },
  {
   "cell_type": "code",
   "execution_count": 121,
   "metadata": {
    "collapsed": false
   },
   "outputs": [
    {
     "data": {
      "text/plain": [
       "<matplotlib.axes._subplots.AxesSubplot at 0x2cff5860>"
      ]
     },
     "execution_count": 121,
     "metadata": {},
     "output_type": "execute_result"
    },
    {
     "data": {
      "image/png": "[encoded data removed]",
      "text/plain": [
       "<matplotlib.figure.Figure at 0x2be833c8>"
      ]
     },
     "metadata": {},
     "output_type": "display_data"
    }
   ],
   "source": [
    "train_qs2[train_qs2['is_duplicate']== 0]['q1_counts'].hist(bins = 20)"
   ]
  },
  {
   "cell_type": "code",
   "execution_count": 128,
   "metadata": {
    "collapsed": false
   },
   "outputs": [
    {
     "data": {
      "text/plain": [
       "<matplotlib.axes._subplots.AxesSubplot at 0x2cf07a20>"
      ]
     },
     "execution_count": 128,
     "metadata": {},
     "output_type": "execute_result"
    },
    {
     "data": {
      "image/png": "[encoded data removed]",
      "text/plain": [
       "<matplotlib.figure.Figure at 0x2d31f5c0>"
      ]
     },
     "metadata": {},
     "output_type": "display_data"
    }
   ],
   "source": [
    "train_qs2[train_qs2['is_duplicate']== 0]['q2_counts'].hist(bins = 50)"
   ]
  },
  {
   "cell_type": "code",
   "execution_count": 129,
   "metadata": {
    "collapsed": false
   },
   "outputs": [
    {
     "data": {
      "text/plain": [
       "<matplotlib.axes._subplots.AxesSubplot at 0x2d67e748>"
      ]
     },
     "execution_count": 129,
     "metadata": {},
     "output_type": "execute_result"
    },
    {
     "data": {
      "image/png": "[encoded data removed]",
      "text/plain": [
       "<matplotlib.figure.Figure at 0x2d32f710>"
      ]
     },
     "metadata": {},
     "output_type": "display_data"
    }
   ],
   "source": [
    "train_qs2[train_qs2['is_duplicate']== 0]['q1_counts'].hist(bins = 50)"
   ]
  },
  {
   "cell_type": "code",
   "execution_count": 423,
   "metadata": {
    "collapsed": false
   },
   "outputs": [
    {
     "name": "stdout",
     "output_type": "stream",
     "text": [
      "             q1_counts\n",
      "                  mean\n",
      "is_duplicate          \n",
      "0             1.661342\n",
      "1             4.820264\n",
      "             q2_counts\n",
      "                  mean\n",
      "is_duplicate          \n",
      "0             1.964533\n",
      "1             4.896371\n",
      "\n",
      "\n",
      "Average counts\n",
      "             average_count\n",
      "                      mean\n",
      "is_duplicate              \n",
      "0                 1.812937\n",
      "1                 4.858317\n"
     ]
    }
   ],
   "source": [
    "print train_qs2[['q1_counts','is_duplicate']].groupby(['is_duplicate']).agg(['mean'])\n",
    "print train_qs2[['q2_counts','is_duplicate']].groupby(['is_duplicate']).agg(['mean'])\n",
    "train_qs2['average_count'] = (train_qs2['q1_counts'] + train_qs2['q2_counts'])/2\n",
    "print \"\\n\\nAverage counts\"\n",
    "print train_qs2[['average_count','is_duplicate']].groupby(['is_duplicate']).agg(['mean'])"
   ]
  },
  {
   "cell_type": "code",
   "execution_count": 131,
   "metadata": {
    "collapsed": false
   },
   "outputs": [],
   "source": [
    "#Count : Can be used as one of the features"
   ]
  },
  {
   "cell_type": "markdown",
   "metadata": {},
   "source": [
    "#### Pre-processing steps\n",
    "\n",
    "1. Lower case\n",
    "2. Removing special case - replace with space (will be helpful for tokenization)\n",
    "3. Removing numbers - replace with space"
   ]
  },
  {
   "cell_type": "code",
   "execution_count": 8,
   "metadata": {
    "collapsed": false
   },
   "outputs": [],
   "source": [
    "#Lower case\n",
    "train_qs2['question1_clean'] = train_qs2.question1.str.lower()\n",
    "train_qs2['question2_clean'] = train_qs2.question2.str.lower()\n",
    "\n",
    "test_qs2['question1_clean'] = test_qs2.question1.str.lower()\n",
    "test_qs2['question2_clean'] = test_qs2.question2.str.lower()\n"
   ]
  },
  {
   "cell_type": "code",
   "execution_count": 9,
   "metadata": {
    "collapsed": false
   },
   "outputs": [],
   "source": [
    "#Replacing special characters with spaces\n",
    "\n",
    "train_qs2['question1_clean'] = train_qs2['question1_clean'].apply(lambda x:  re.sub('[^a-zA-Z0-9 \\n\\.]', ' ', str(x)))\n",
    "train_qs2['question2_clean'] = train_qs2['question2_clean'].apply(lambda x:  re.sub('[^a-zA-Z0-9 \\n\\.]', ' ', str(x)))\n",
    "\n",
    "test_qs2['question1_clean'] = test_qs2['question1_clean'].apply(lambda x:  re.sub('[^a-zA-Z0-9 \\n\\.]', ' ', str(x)))\n",
    "test_qs2['question2_clean'] = test_qs2['question2_clean'].apply(lambda x:  re.sub('[^a-zA-Z0-9 \\n\\.]', ' ', str(x)))"
   ]
  },
  {
   "cell_type": "code",
   "execution_count": 10,
   "metadata": {
    "collapsed": false
   },
   "outputs": [
    {
     "name": "stdout",
     "output_type": "stream",
     "text": [
      "['what', 'is', 'the', 'step', 'by', 'step', 'guide', 'to', 'invest', 'in', 'share', 'market', 'in', 'india', '']\n",
      "['what', 'is', 'the', 'step', 'by', 'step', 'guide', 'to', 'invest', 'in', 'share', 'market', '']\n"
     ]
    },
    {
     "data": {
      "text/plain": [
       "{'',\n",
       " 'by',\n",
       " 'guide',\n",
       " 'in',\n",
       " 'invest',\n",
       " 'is',\n",
       " 'market',\n",
       " 'share',\n",
       " 'step',\n",
       " 'the',\n",
       " 'to',\n",
       " 'what'}"
      ]
     },
     "execution_count": 10,
     "metadata": {},
     "output_type": "execute_result"
    }
   ],
   "source": [
    "#Checking the interaction method\n",
    "set_list1 = train_qs2['question1_clean'].iloc[0,].split(' ')\n",
    "print set_list1\n",
    "set_list2 = train_qs2['question2_clean'].iloc[0,].split(' ')\n",
    "print set_list2\n",
    "\n",
    "set(set_list1).intersection(set_list2)"
   ]
  },
  {
   "cell_type": "code",
   "execution_count": 11,
   "metadata": {
    "collapsed": false
   },
   "outputs": [],
   "source": [
    "stop_words = set(stopwords.words('english'))\n",
    "stop_words.add('')\n",
    "\n",
    "#Remove 'it' from stop words"
   ]
  },
  {
   "cell_type": "markdown",
   "metadata": {},
   "source": [
    "### Feature Engineering\n",
    "\n",
    "1. Similar word feature\n",
    "2. TF-IDF feature\n",
    "3. Word match ratio (fuzzy-wuzzy) feature\n",
    "4. Extracting numbers and find pattern"
   ]
  },
  {
   "cell_type": "code",
   "execution_count": 12,
   "metadata": {
    "collapsed": true
   },
   "outputs": [],
   "source": [
    "def similar_word_percetage(row, columns):\n",
    "    \n",
    "    q1 = row[columns[0]].split(' ')\n",
    "    q2 = row[columns[1]].split(' ')\n",
    "    \n",
    "    q1 = [each for each in q1 if each not in stop_words]\n",
    "    q2 = [each for each in q2 if each not in stop_words]\n",
    "    \n",
    "    if float(len(q1) + len(q2)) == 0:\n",
    "        return 0\n",
    "    \n",
    "    intersection = set(q1).intersection(q2)\n",
    "        \n",
    "    common_words = 2 * len(intersection) / float(len(q1) + len(q2))\n",
    "    return common_words"
   ]
  },
  {
   "cell_type": "code",
   "execution_count": 13,
   "metadata": {
    "collapsed": false
   },
   "outputs": [],
   "source": [
    "#Calling the function to create a commanality score column ! \n",
    "columns = ['question1_clean','question2_clean']\n",
    "train_qs2['commanality_score'] = train_qs2.apply(lambda x: similar_word_percetage(x,columns), axis = 1)\n",
    "\n"
   ]
  },
  {
   "cell_type": "code",
   "execution_count": 14,
   "metadata": {
    "collapsed": true
   },
   "outputs": [],
   "source": [
    "#Calling the function for test data !\n",
    "\n",
    "test_qs2['commanality_score'] = test_qs2.apply(lambda x: similar_word_percetage(x,columns), axis = 1)\n"
   ]
  },
  {
   "cell_type": "code",
   "execution_count": 400,
   "metadata": {
    "collapsed": false
   },
   "outputs": [
    {
     "data": {
      "text/plain": [
       "<matplotlib.axes._subplots.AxesSubplot at 0xba755f60>"
      ]
     },
     "execution_count": 400,
     "metadata": {},
     "output_type": "execute_result"
    },
    {
     "data": {
      "image/png": "[encoded data removed]",
      "text/plain": [
       "<matplotlib.figure.Figure at 0xbc0502b0>"
      ]
     },
     "metadata": {},
     "output_type": "display_data"
    }
   ],
   "source": [
    "train_qs2[train_qs2['is_duplicate'] == 0]['commanality_score'].hist()"
   ]
  },
  {
   "cell_type": "code",
   "execution_count": 401,
   "metadata": {
    "collapsed": false
   },
   "outputs": [
    {
     "data": {
      "text/plain": [
       "<matplotlib.axes._subplots.AxesSubplot at 0xc54e2e48>"
      ]
     },
     "execution_count": 401,
     "metadata": {},
     "output_type": "execute_result"
    },
    {
     "data": {
      "image/png": "[encoded data removed]",
      "text/plain": [
       "<matplotlib.figure.Figure at 0xc57cd048>"
      ]
     },
     "metadata": {},
     "output_type": "display_data"
    }
   ],
   "source": [
    "train_qs2[train_qs2['is_duplicate'] == 1]['commanality_score'].hist()"
   ]
  },
  {
   "cell_type": "markdown",
   "metadata": {},
   "source": [
    "#### A good feature where it can be seen that the commality is most than around 0.3 for duplicated records"
   ]
  },
  {
   "cell_type": "code",
   "execution_count": 33,
   "metadata": {
    "collapsed": false
   },
   "outputs": [],
   "source": [
    "train_qs.sort_values(by = ['id'])\n",
    "train_qs2.sort_values(by = ['id'])\n",
    "\n",
    "\n",
    "#t = train_qs[(train_qs2['commanality_score'] > 0.8) & (train_qs2['is_duplicate'] == 0)].sort_values(by = ['id'])\n",
    "t2 = train_qs2[(train_qs2['commanality_score'] > 0.4) & (train_qs2['is_duplicate'] == 0)].sort_values(by = ['id'])\n",
    "t3 = train_qs2[(train_qs2['commanality_score'] > 0.4) & (train_qs2['is_duplicate'] == 1)].sort_values(by = ['id'])\n"
   ]
  },
  {
   "cell_type": "code",
   "execution_count": 34,
   "metadata": {
    "collapsed": false
   },
   "outputs": [],
   "source": [
    "#train_qs.loc[((train_qs2['commanality_score'] > 0.8) & (train_qs2['is_duplicate'] == 0)),:]\n",
    "train_qs= pd.DataFrame(train_qs)\n",
    "#train_qs.loc[(train_qs2['commanality_score'] > 0.8) & (train_qs2['is_duplicate'] == 0),:]\n",
    "#train_qs2[(train_qs2['commanality_score'] > 0.8) & (train_qs2['is_duplicate'] == 0)]"
   ]
  },
  {
   "cell_type": "code",
   "execution_count": 45,
   "metadata": {
    "collapsed": false
   },
   "outputs": [
    {
     "name": "stdout",
     "output_type": "stream",
     "text": [
      "astrology: i am a capricorn sun cap moon and cap rising...what does that say about me?\n",
      "i'm a triple capricorn (sun, moon and ascendant in capricorn) what does this say about me?\n",
      "0.533333333333\n",
      "how can i be a good geologist?\n",
      "what should i do to be a great geologist?\n",
      "0.5\n",
      "how do i read and find my youtube comments?\n",
      "how can i see all my youtube comments?\n",
      "0.571428571429\n",
      "what can make physics easy to learn?\n",
      "how can you make physics easy to learn?\n",
      "1.0\n",
      "what was your first sexual experience like?\n",
      "what was your first sexual experience?\n",
      "0.857142857143\n",
      "what does manipulation mean?\n",
      "what does manipulation means?\n",
      "0.5\n",
      "why are so many quora users posting questions that are readily answered on google?\n",
      "why do people ask quora questions which can be answered easily by google?\n",
      "0.533333333333\n",
      "why do rockets look white?\n",
      "why are rockets and boosters painted white?\n",
      "0.571428571429\n",
      "how should i prepare for ca final law?\n",
      "how one should know that he/she completely prepare for ca final exam?\n",
      "0.545454545455\n",
      "what are some special cares for someone with a nose that gets stuffy during the night?\n",
      "how can i keep my nose from getting stuffy at night?\n",
      "0.5\n",
      "what game of thrones villain would be the most likely to give you mercy?\n",
      "what game of thrones villain would you most like to be at the mercy of?\n",
      "0.769230769231\n",
      "what are some examples of products that can be make from crude oil?\n",
      "what are some of the products made from crude oil?\n",
      "0.666666666667\n",
      "how do i make friends.\n",
      "how to make friends ?\n",
      "0.5\n",
      "is career launcher good for rbi grade b preparation?\n",
      "how is career launcher online program for rbi grade b?\n",
      "0.714285714286\n",
      "will a blu ray play on a regular dvd player? if so, how?\n",
      "how can you play a blu ray dvd on a regular dvd player?\n",
      "0.923076923077\n",
      "what is the best/most memorable thing you've ever eaten and why?\n",
      "what is the most delicious dish you've ever eaten and why?\n",
      "0.444444444444\n",
      "i was suddenly logged off gmail. i can't remember my gmail password and just realized the recovery email is no longer alive. what can i do?\n",
      "i can't remember my gmail password or my recovery email. how can i recover my e-mail?\n",
      "0.421052631579\n",
      "what is java programming? how to learn java programming language ?\n",
      "how do i learn a computer language like java?\n",
      "0.545454545455\n",
      "what is the best book ever made?\n",
      "what is the most important book you have ever read?\n",
      "0.5\n",
      "can we ever store energy produced in lightning?\n",
      "is it possible to store the energy of lightning?\n",
      "0.666666666667\n",
      "what is a narcissistic personality disorder?\n",
      "what is narcissistic personality disorder?\n",
      "1.0\n",
      "how i can speak english fluently?\n",
      "how can i learn to speak english fluently?\n",
      "0.857142857143\n",
      "how helpful is quickbooks' auto data recovery support phone number to recover your corrupted data files?\n",
      "what is the quickbooks customer support phone number usa?\n",
      "0.444444444444\n",
      "who is the richest gambler of all time and how can i reach his level?\n",
      "who is the richest gambler of all time and how can i reach his level as a gambler?\n",
      "0.909090909091\n",
      "what is purpose of life?\n",
      "what's the purpose of life? what is life actually about?\n",
      "0.666666666667\n",
      "what are some of the high salary income jobs in the field of biotechnology?\n",
      "what are some high paying jobs for a fresher with an m.tech in biotechnology?\n",
      "0.5\n",
      "how can i increase my height after 21 also?\n",
      "can height increase after 25?\n",
      "0.571428571429\n",
      "what were the major effects of the cambodia earthquake, and how do these effects compare to the kamchatca earthquakes in 1952?\n",
      "what were the major effects of the cambodia earthquake, and how do these effects compare to the valparaiso earthquake in 1822?\n",
      "0.555555555556\n",
      "which is the best gaming laptop under 60k inr?\n",
      "which is the best gaming laptop under rs 60000?\n",
      "0.6\n",
      "what are some of the best romantic movies in english?\n",
      "what is the best romantic movie you have ever seen?\n",
      "0.444444444444\n",
      "how does 3d printing work?\n",
      "how do 3d printing work?\n",
      "1.0\n",
      "will there really be any war between india and pakistan over the uri attack? what will be its effects?\n",
      "will there be a nuclear war between india and pakistan?\n",
      "0.545454545455\n",
      "can i recover my email if i forgot the password?\n",
      "what should i do if i forgot my email password?\n",
      "0.857142857143\n",
      "what's the difference between love and pity?\n",
      "what is the difference between love and pity?\n",
      "1.0\n",
      "what do you think china food?\n",
      "how do you think of chinese food?\n",
      "0.666666666667\n",
      "what mineral holds the highest electrical charge?\n",
      "what mineral can hold the greatest electrical charge?\n",
      "0.6\n",
      "can excessive amounts of vitamin c cause me to have a miscarriage?\n",
      "how can vitamin c cause a miscarriage?\n",
      "0.8\n",
      "who are the rohingya muslims?\n",
      "who are the rohingya people?\n",
      "0.5\n",
      "does it matter whether humans are selfish or evil?\n",
      "does it matter whether humanity is evil or not?\n",
      "0.666666666667\n",
      "does a black hole have mass?\n",
      "does a black hole have a finite mass?\n",
      "0.857142857143\n",
      "is morgan freeman correct when he says the only way to stop racism, is to stop talking about it?\n",
      "what are your views about this morgan freeman quote about racism?\n",
      "0.428571428571\n",
      "why does red keep the keys in oitnb?\n",
      "why does red keep the keys in season 4 of orange is the new black?\n",
      "0.5\n",
      "if i do not monetize youtube videos & upload copyright content, then are there chances that google may block my account?\n",
      "how do you upload movies on youtube and monetize them? is there any issue of copyright\n",
      "0.470588235294\n",
      "why nobody answer my questions in quora?\n",
      "why is no one answering my questions in quora?\n",
      "0.5\n",
      "what is the funniest joke you know?\n",
      "what is the funniest joke of all time?\n",
      "0.666666666667\n",
      "how do i use twitter as a business source?\n",
      "how can i use twitter for business?\n",
      "0.857142857143\n",
      "which is the best earphone with deep bass under 1000?\n",
      "which is the best earphones under rs 1000?\n",
      "0.444444444444\n",
      "which are the best engineering fields?\n",
      "what is the best field of engineering?\n",
      "0.666666666667\n",
      "which is the best fixed income fund?\n",
      "what is the best fixed income fund?\n",
      "1.0\n",
      "what is it like to live in cologne?\n",
      "what is it like to live in köln, germany? \n",
      "0.5\n",
      "why does some people prefer small families.?\n",
      "why do some people prefer to live with small family?\n",
      "0.666666666667\n",
      "do animals kiss?\n",
      "do animals (besides humans) kiss?\n",
      "0.666666666667\n",
      "how do you get deleted instagram chats?\n",
      "how can i view deleted instagram dms?\n",
      "0.5\n",
      "what if i hired two private eyes and ordered them to follow each other?\n",
      "would i be able to hire two private investigators and then get them to follow each other?\n",
      "0.428571428571\n",
      "what was the significance of the battle of somme, and how did this battle compare and contrast to the battle of rostov?\n",
      "what was the significance of the battle of somme, and how did this battle compare and contrast to the battle of riyadh?\n",
      "0.625\n",
      "is it possible to pursue many different things in life?\n",
      "how do i refuse to chose between different things to do in my life?\n",
      "0.545454545455\n",
      "did ben affleck shine more than christian bale as batman?\n",
      "no fanboys please, but who was the true batman, christian bale or ben affleck?\n",
      "0.714285714286\n",
      "which business is good start up in hyderabad?\n",
      "which business is better to start in hyderabad?\n",
      "0.75\n",
      "how can i stop being so possessive?\n",
      "how do i stop being over possessive for a person whom i love?\n",
      "0.666666666667\n",
      "what is the best combination of courses i can take up along with ca to enhance my career?\n",
      "what courses must be taken along with ca course?\n",
      "0.428571428571\n",
      "how do you take a screenshot on a mac laptop?\n",
      "how do i take a screenshot on my macbook pro? what are some instructions?\n",
      "0.444444444444\n",
      "what are some must watch tv shows before you die?\n",
      "are there any must watch tv shows?\n",
      "0.888888888889\n",
      "how can i become more fluent in chinese?\n",
      "how can i become fluent in chinese?\n",
      "1.0\n",
      "what are the effects of demonitization of 500 and 1000 rupees notes on real estate sector?\n",
      "what will be the impact of scrapping of ₹500 and ₹1000 rupee notes on the real estate market?\n",
      "0.555555555556\n",
      "what is the easiest way to become a billionaire($)?\n",
      "what is the best way to become a billionaire?\n",
      "0.75\n",
      "why do people hate hillary clinton?\n",
      "what are the reasons that people dislike hillary clinton?\n",
      "0.666666666667\n",
      "why is creativity important?\n",
      "why creativity is important?\n",
      "1.0\n",
      "is the neutron star made up of?\n",
      "is the neutron star made up of only neutrons?\n",
      "0.857142857143\n",
      "how can i learn computer security?\n",
      "how can i get started to learn information security?\n",
      "0.5\n",
      "how do i earn from quora?\n",
      "can i earn money on quora?\n",
      "0.8\n",
      "what is my puk code?\n",
      "what's the puk for tf64simc4?\n",
      "0.5\n",
      "will there be another billion dollar lottery jackpot?\n",
      "when will the lottery reach the next billion dollar jackpot?\n",
      "0.727272727273\n",
      "how do i create a new shell in a new terminal using c programming (linux terminal)?\n",
      "how do i create a new terminal and new shell in linux using c programming?\n",
      "0.842105263158\n",
      "how can we make the world a better place to live in for the future generations?\n",
      "what can i do to make the world a better place?\n",
      "0.727272727273\n",
      "which online test series is best for gate 2017 in cs stream?\n",
      "which test series is the best for gate computer science stream?\n",
      "0.666666666667\n",
      "in the play \"a raisin in the sun\", why do walter ad beneatha argue?\n",
      "in \"a raisin in the sun\", why do walter and beneatha argue?\n",
      "0.833333333333\n",
      "what are the signs of an ultra smart person playing dumb?\n",
      "what are signs of ultra smart people hiding their intelligence?\n",
      "0.5\n",
      "who is disrupting bloomberg?\n",
      "who will disrupt bloomberg?\n",
      "0.5\n",
      "how will the implementation of gst bill impact the lives of common people?\n",
      "what exactly is gst bill and how exactly will it affect the common people?\n",
      "0.571428571429\n",
      "how can you recover your gmail password?\n",
      "i do not remember my password to my gmail account, how can i recover my account?\n",
      "0.666666666667\n",
      "how accurately can a mental illness can be diagnosed?\n",
      "how can i accurately diagnose and medicate my mental illness?\n",
      "0.666666666667\n",
      "what are the qualities of a good leader?\n",
      "what are some good qualities of a leader?\n",
      "1.0\n",
      "what exactly is the \"common core initiative/standards\" and what are the pros and cons?\n",
      "what are the pros and cons of the common core standards initiative?\n",
      "0.923076923077\n",
      "how do i choose a journal to publish my paper?\n",
      "where do i publish my paper?\n",
      "0.666666666667\n",
      "what are your new year's resolutions for 2017?\n",
      "what is your creative new year's resolution for 2017?\n",
      "0.666666666667\n",
      "how can i get free gems in clash of clans?\n",
      "how can i get free gems clash of clans?\n",
      "1.0\n",
      "what is the best way to get traffic on your website?\n",
      "how do i get traffic for website?\n",
      "0.75\n",
      "how do you feel when someone upvotes your answer on quora?\n",
      "how does it feel to see upvotes to your answer on quora?\n",
      "0.8\n",
      "what are some of the best films and tv shows that feature strong female protagonists?\n",
      "what are the best female strong characters in films?\n",
      "0.615384615385\n",
      "how long does it take for a dead body to float to the surface after drowning ?\n",
      "when a dead body is in a river, how long does it take before it floats?\n",
      "0.615384615385\n",
      "how can i make money online with free of cost?\n",
      "how do i to make money online?\n",
      "0.75\n",
      "where can i buy best quality customized cupcakes in gold coast?\n",
      "where can i find delicious cupcakes at gold coast?\n",
      "0.5\n",
      "how successful was odd even plan?\n",
      "how successful was the delhi's odd-even plan?\n",
      "0.888888888889\n",
      "if there will be a war between india and pakistan who will win?\n",
      "who will win if a war starts between india and pakistan?\n",
      "0.888888888889\n",
      "how do you deal with a fear of dying?\n",
      "how can you reduce your fear of dying?\n",
      "0.666666666667\n",
      "is there an end to the universe, and if not, is the universe infinite?\n",
      "is the universe infinite or is there an end to the universe?\n",
      "0.75\n",
      "how much funds should i raise?\n",
      "how much money should i raise?\n",
      "0.666666666667\n",
      "what the meaning of this all life?\n",
      "what's are the meaning of life?\n",
      "1.0\n",
      "which are the best hollywood thriller movies?\n",
      "what are the best thriller movie in hollywood?\n",
      "0.75\n",
      "which are the best books to understand calculus?\n",
      "what are good books to self study calculus?\n",
      "0.444444444444\n",
      "why and how did you break up with her/him?\n",
      "how and why did you break up with your ex?\n",
      "0.666666666667\n",
      "what is the best answer to what you did in two years gap in a job interview?\n",
      "what is the best excuse to explain a gap (of one or two years) in your job career for a job interview?\n",
      "0.666666666667\n",
      "what do countries do to prevent war?\n",
      "how should countries prevent war?\n",
      "1.0\n",
      "how can i become a billionaire?\n",
      "how can i become a billionaire (in finance)?\n",
      "0.8\n",
      "how will indian gdp be affected from banning 500 and 1000 rupees notes?\n",
      "what will be the implications of banning 500 and 1000 rupees currency notes on indian economy?\n",
      "0.705882352941\n",
      "why does understanding death philosophical?\n",
      "what makes understanding death philosophical?\n",
      "0.857142857143\n",
      "what are the pros and cons of the german shepherd dog?\n",
      "what are the pros and cons of having a pet german shepherd?\n",
      "0.8\n",
      "what would be the best way to quit smoking?\n",
      "how did you quit/stop smoking?\n",
      "0.5\n",
      "earthquake resistant homes?\n",
      "how do earthquake resistant buildings work?\n",
      "0.571428571429\n",
      "what is the best phone to buy below 15k?\n",
      "which are best mobile phones to buy under 15000?\n",
      "0.444444444444\n",
      "how do we start a business?\n",
      "how do i start business from nothing?\n",
      "0.8\n",
      "what's the best near-death experience you've ever had?\n",
      "has anyone ever had a near-death experience?\n",
      "0.8\n",
      "why do i keep getting fleas from my dogs?\n",
      "how can i keep my dog from getting fleas?\n",
      "0.75\n",
      "what year did the letter j come?\n",
      "when was the letter j created?\n",
      "0.571428571429\n",
      "what are the most important books ever written?\n",
      "what is the most important book you have ever read?\n",
      "0.5\n",
      "how can i become a good speaker?\n",
      "what should i do to be a good speaker?\n",
      "0.8\n",
      "how can i write a letter to mr. narendra modi?\n",
      "how can i write to narendra modi?\n",
      "0.75\n",
      "what do you think about the bermuda triangle?\n",
      "what are your theories about bermuda triangle?\n",
      "0.666666666667\n",
      "how do i maintain my peace of mind?\n",
      "how can i maintain my peace of mind?\n",
      "1.0\n",
      "which one is better among kmc manipal and kmc mangalore?\n",
      "what is the brief comparison of kmc in manipal and mangalore?\n",
      "0.5\n",
      "how do i keep motivation to learn a language?\n",
      "how do you keep motivated when you learn a new language?\n",
      "0.666666666667\n",
      "what is the different between chinese wedding ceremony and western wedding ceremony?\n",
      "what is the difference between chinese and western style wedding?\n",
      "0.5\n",
      "why should one hate shahrukh khan?\n",
      "why do people hate shahrukh khan and why do people feel that he is not an indian?\n",
      "0.545454545455\n",
      "what are the best self-help books you've ever read?\n",
      "what are the top self help books i should read?\n",
      "0.727272727273\n",
      "is evernote useful?\n",
      "what is evernote used for?\n",
      "0.5\n",
      "what is a good song to lyric prank your best friend?\n",
      "what are some good lyric prank songs to send your best friends?\n",
      "0.615384615385\n",
      "how could start with open source development?\n",
      "how should i start contributing to open source projects?\n",
      "0.6\n",
      "do cricket players really drink tea on a tea break?\n",
      "do cricketers actually drink tea during tea break?\n",
      "0.461538461538\n",
      "does a fetus breathe when it's inside a womb?\n",
      "how does a fetus exhale in the womb?\n",
      "0.571428571429\n",
      "how much does your dna change over time? if i were to clone myself 70 years from now, will the clone have the same hair color?\n",
      "how much can a person's dna change from birth to death in a life span of approximately 70 years?\n",
      "0.47619047619\n",
      "is donald trump taking cocaine, as howard dean suggests?\n",
      "are there any strong indications that donald trump does cocaine?\n",
      "0.5\n",
      "how can i see the comedy nights with kapil live show?\n",
      "what is the way to watch comedy nights with kapil live on the sets?\n",
      "0.615384615385\n",
      "what's your bucket list?\n",
      "what is your bucket list?\n",
      "1.0\n",
      "how did you first come across porn?\n",
      "how were you first introduced to porn?\n",
      "0.571428571429\n",
      "what can i eat every day to be more healthy?\n",
      "is it healthy to eat a whole avocado every day?\n",
      "0.8\n",
      "what would hillary clinton do now that the election is over?\n",
      "what will hillary clinton do now?\n",
      "0.666666666667\n",
      "should i use vicks vapor rub for a stuffy nose?\n",
      "how do you apply vicks vapor rub to treat a stuffy nose?\n",
      "0.769230769231\n",
      "how i start prepare for ugc net english literature latest syllabus?\n",
      "how do i prepare for net jrf in english literature?\n",
      "0.615384615385\n",
      "what are your views on modi governments decision to demonetize 500 and 1000 rupee notes? how will this affect economy?\n",
      "what are your views on ban of 500 and 1000 rupee notes in india?\n",
      "0.555555555556\n",
      "why is saltwater taffy candy imported in greece?\n",
      "why is saltwater taffy candy imported in china?\n",
      "0.8\n",
      "israel vs iran: who would win?\n",
      "if israel and iran went to war, who would win?\n",
      "0.727272727273\n",
      "when is it too late to learn the piano?\n",
      "i'm almost 40. is it too late for me to learn piano?\n",
      "0.75\n",
      "how we can travel faster than light?\n",
      "is it possible to travel faster than light?\n",
      "0.857142857143\n",
      "what is it like being a firefighter?\n",
      "what's it like to be a firefighter?\n",
      "1.0\n",
      "how do you stop a criminal's attempt to kidnap you so you escape unharmed?\n",
      "how do you stop a criminal's attempt to kidnap you and escape unharmed?\n",
      "1.0\n",
      "daniel ek: when an we expect spotify in india?\n",
      "daniel ek: are there any future plans of releasing spotify in india?\n",
      "0.666666666667\n",
      "what are the top 10 books one should read in his or her early 20s?\n",
      "what books are worth reading in early 20s?\n",
      "0.5\n",
      "which book should i start with for the gate preparation?\n",
      "what book do i start with for gate preparation?\n",
      "1.0\n",
      "what is similar to 4shared?\n",
      "what is similar to 4shared but better?\n",
      "0.8\n",
      "can climate change be reversed?\n",
      "can the global climate change be reversed or halted?\n",
      "0.75\n",
      "did mahabharata really happen?\n",
      "did mahabharata really happen or only an allegory according to m.k.gandhi?\n",
      "0.666666666667\n",
      "why are police lights red and blue?\n",
      "why are police lights red and/or blue?\n",
      "1.0\n",
      "how do i post a question that was marked as needing improvement?\n",
      "why was my question marked as \"needs improvement?\"\n",
      "0.666666666667\n",
      "how do i prepare for software interviews?\n",
      "what are the best ways to prepare for software interviews?\n",
      "0.75\n",
      "does rahul gandhi have any chance to become next pm of india after modi?\n",
      "does rahul gandhi have chances to become next pm of india after modi?\n",
      "0.875\n",
      "how should i study\n",
      "what are some tricks to study effectively?\n",
      "0.5\n",
      "what makes a programmer \"good?\"\n",
      "what makes a good programmer great?\n",
      "0.857142857143\n",
      "where and how do the crop circles get generated?\n",
      "what are crop circles?\n",
      "0.666666666667\n",
      "will baking soda help pass a urine test?\n",
      "how does baking soda help you pass a drug test?\n",
      "0.833333333333\n",
      "what is zika virus and how is it transmitted?\n",
      "how is zika virus spread?\n",
      "0.666666666667\n",
      "what is the best way to learn algebra by yourself?\n",
      "how do you learn algebra 1 fast?\n",
      "0.5\n",
      "what is the best place for sex?\n",
      "what is the best place to have sex from?\n",
      "1.0\n",
      "how do you feel about the new macbook pro, late 2016?\n",
      "should i get the new macbook pro?\n",
      "0.6\n",
      "what are the major differences between chinese culture and western cultures?\n",
      "what is the difference between chinese and western culture?\n",
      "0.6\n",
      "what are scraping techniques?\n",
      "what are some good free web scrapers / scraping techniques?\n",
      "0.5\n",
      "is it healthy to eat egg whites every day?\n",
      "is it healthy to eat one chicken every day?\n",
      "0.666666666667\n",
      "what are the best places to recommend foreigners to visit in nepal?\n",
      "what are the best places to visit in nepal?\n",
      "0.8\n",
      "how imminent is world war iii?\n",
      "are we heading toward world war 3?\n",
      "0.444444444444\n",
      "how do you write a song?\n",
      "how do i write a song?\n",
      "1.0\n",
      "what could be narendra modi's next move after demonetization?\n",
      "what is next step after demonetization?\n",
      "0.444444444444\n",
      "if you have me, you want to share me. if you share me, you haven't got me. what am i?\n",
      "if you have me, you want to share me. if you share me, you don't get me. what am i?\n",
      "0.5\n",
      "what is an interesting fact that you know and i don't, but shouldn't?\n",
      "what is the most interesting fact that most people don't know about?\n",
      "0.857142857143\n",
      "where do i find 3ds emulator for android?\n",
      "is there a working nintendo 3ds emulator for pc?\n",
      "0.444444444444\n",
      "how can i become a true computer science engineer?\n",
      "how do i become a good computer science engineer?\n",
      "0.8\n",
      "how can i hack someones whatsapp account?\n",
      "how can i hack another whatsapp account?\n",
      "0.75\n",
      "what is the best lesson in life?\n",
      "what is the most important lesson you have learned from life?\n",
      "0.571428571429\n",
      "how will trump's presidency affect indian students who are planning to do a phd in the us?\n",
      "how would trump presidency affect indian students in the us?\n",
      "0.8\n",
      "what are the best daily life hacks one can use to make his life easy?\n",
      "what are the hacks in daily life?\n",
      "0.5\n",
      "what is your favourite anime character and why?\n",
      "what is your favorite anime character? and why?\n",
      "0.666666666667\n",
      "how many mechanical engineers graduate from india per year?\n",
      "how many mechanical engineers graduate per year in india?\n",
      "1.0\n",
      "how do i start a successful private equity firm?\n",
      "what do you need to start your own private equity firm?\n",
      "0.8\n",
      "what can be the medium budget to visit best places in kerala for three members (2-3 days)?\n",
      "what are the best places to visit in kerala for college students?\n",
      "0.470588235294\n",
      "how can i earn money from youtube?\n",
      "how do i make money through youtube?\n",
      "0.666666666667\n",
      "how can i start civil service exam preparation from scratch?\n",
      "when should i start preparing for the civil service exam?\n",
      "0.727272727273\n",
      "what is the difference in pleasure between masturbation and sex?\n",
      "what is the difference between sex and masturbation when it comes to pleasure?\n",
      "0.888888888889\n",
      "do you have any psychic abilities?\n",
      "do you have psychic power?\n",
      "0.5\n",
      "what is your take on urjit patel as the new rbi governor?\n",
      "is urjit patel is right person for rbi governor?\n",
      "0.666666666667\n",
      "do trump voters care that he has reneged all his campaign promises?\n",
      "how will trump supporters react once they realize he can't or won't keep his campaign promises?\n",
      "0.461538461538\n",
      "can i learn while sleeping? if so, how?\n",
      "how can i efficiently learn while sleeping?\n",
      "0.8\n",
      "how do i stop being addicted to porn?\n",
      "how can i stop watching porn?\n",
      "0.666666666667\n",
      "what is the meaning of life? whats our purpose on earth?\n",
      "what do you feel is the purpose of life?\n",
      "0.5\n",
      "how is time travel possible?\n",
      "do you think time travel is possible?\n",
      "0.857142857143\n",
      "how can one get a fuller face?\n",
      "how do i do to get fuller face?\n",
      "0.857142857143\n",
      "is it too late for me at the age of 25 thinking to start a career in photography?\n",
      "i want to start my career as a photographer at age of 25. is it too late?\n",
      "0.571428571429\n",
      "what’s the best time to have sex?\n",
      "when will the best time for having sex?\n",
      "1.0\n",
      "can we create free energy?\n",
      "how do we make free energy?\n",
      "0.666666666667\n",
      "what's the funniest highbrow joke you've ever heard?\n",
      "what are the funniest jokes / stories you ever heard?\n",
      "0.6\n",
      "what are some movies that everyone needs to watch at least once in life?\n",
      "what movies would you recommend everyone to watch?\n",
      "0.545454545455\n",
      "can world war 3 ever take place?\n",
      "is world war 3 more imminent than expected?\n",
      "0.545454545455\n",
      "how can eating prunes help during a constipation?\n",
      "does eating prunes help with constipation?\n",
      "1.0\n"
     ]
    }
   ],
   "source": [
    "for i in range(0,200):\n",
    "    print t3.iloc[i,]['question1']\n",
    "    print t3.iloc[i,]['question2']\n",
    "    print t3.iloc[i,]['commanality_score']\n",
    "\n",
    "    \n",
    "#Observations - stemming and lammetisation\n",
    "#Check for the sentences with just extra words like 'my'\n",
    "#Reduce the score for those with just one word mistmatch - mostly company name and the nation name - lookout for that one word\n",
    "### if that is a grammatical word (do, does, a, an) then it is a match else, it is duplicate\n",
    "#Check few extra words/phrase in a question, while every other part in both the question exactly matches\n",
    "#It is better to replace special charaters with '' than ' '\n",
    "#Spell check\n",
    "#Singular plural check\n",
    "\n",
    "### Number comparison\n",
    "# 60000, 60k are equal\n",
    "# roman numerals and numbers\n",
    "\n",
    "### Run a basic model, cull out the wrongly matched records and check the reason"
   ]
  },
  {
   "cell_type": "code",
   "execution_count": 44,
   "metadata": {
    "collapsed": false
   },
   "outputs": [
    {
     "name": "stdout",
     "output_type": "stream",
     "text": [
      "what were the war strategies of the union and the confederates during the civil war?\n",
      "how could the confederates have possibly defeated union forces at gettysburg during the american civil war?\n"
     ]
    }
   ],
   "source": [
    "print t2.iloc[35,]['question1']\n",
    "print t2.iloc[35,]['question2']\n",
    "\n",
    "#Reasons for different high similarity even though not duplicate\n",
    "#Addition of a country\n",
    "#Importance to numbers and special characters\n",
    "#More specification to the same sentence \n",
    "    #Example:\n",
    "    #why do i always get depressed \n",
    "    #why do i always get depressed in the evening \n",
    "# Order of the sentence matters \n",
    "    #Example \n",
    "    #how do i switch from apple music to spotify \n",
    "    #should i switch from spotify to apple music \n",
    "#Just the change in brand name in a question\n",
    "#Meaning with how and why changes - change the stopword recognizer accordingly\n",
    "\n",
    "## Many cases with just a single word difference\n",
    "## What you can do is, for words with high match, check word by word until there is a single word change, continue looking ahead\n",
    "   #and see if the words following that are the same\n",
    "\n",
    "# Create a feature called country and extract the country form the dataset    "
   ]
  },
  {
   "cell_type": "code",
   "execution_count": 501,
   "metadata": {
    "collapsed": false
   },
   "outputs": [
    {
     "name": "stdout",
     "output_type": "stream",
     "text": [
      "how do i use twitter as a business source \n",
      "how can i use twitter for business \n"
     ]
    }
   ],
   "source": [
    "print t3.iloc[10,]['question1']\n",
    "print t3.iloc[10,]['question2']\n"
   ]
  },
  {
   "cell_type": "markdown",
   "metadata": {
    "collapsed": false
   },
   "source": [
    "### tf-idf feature creation"
   ]
  },
  {
   "cell_type": "code",
   "execution_count": 33,
   "metadata": {
    "collapsed": false
   },
   "outputs": [],
   "source": [
    "#train_qs2.head()\n",
    "\n",
    "#train_qs2[['question1_clean']].apply(lambda x: x.tolist(), axis=1)"
   ]
  },
  {
   "cell_type": "code",
   "execution_count": 36,
   "metadata": {
    "collapsed": false
   },
   "outputs": [],
   "source": [
    "question_series = pd.Series(train_qs2['question1_clean'].tolist() + train_qs2['question1_clean'].tolist()).astype(str)"
   ]
  },
  {
   "cell_type": "code",
   "execution_count": 37,
   "metadata": {
    "collapsed": false
   },
   "outputs": [
    {
     "data": {
      "text/plain": [
       "<808580x67339 sparse matrix of type '<type 'numpy.float64'>'\n",
       "\twith 8061886 stored elements in Compressed Sparse Row format>"
      ]
     },
     "execution_count": 37,
     "metadata": {},
     "output_type": "execute_result"
    }
   ],
   "source": [
    "from sklearn.feature_extraction.text import TfidfVectorizer\n",
    "vectorizer = TfidfVectorizer(min_df=1)\n",
    "vectorizer.fit_transform(question_series)"
   ]
  },
  {
   "cell_type": "code",
   "execution_count": 54,
   "metadata": {
    "collapsed": false
   },
   "outputs": [],
   "source": [
    "idf = vectorizer._tfidf.idf_\n",
    "idf_dict =  dict(zip(vectorizer.get_feature_names(), idf))"
   ]
  },
  {
   "cell_type": "code",
   "execution_count": 74,
   "metadata": {
    "collapsed": false
   },
   "outputs": [],
   "source": [
    "## Analysing the words-and tf-idf scores\n",
    "tf_idf_weights = pd.DataFrame.from_dict(idf_dict.items())\n",
    "tf_idf_weights.columns = ['words','tf_idf score']"
   ]
  },
  {
   "cell_type": "code",
   "execution_count": 79,
   "metadata": {
    "collapsed": false
   },
   "outputs": [
    {
     "data": {
      "text/html": [
       "<div>\n",
       "<table border=\"1\" class=\"dataframe\">\n",
       "  <thead>\n",
       "    <tr style=\"text-align: right;\">\n",
       "      <th></th>\n",
       "      <th>words</th>\n",
       "      <th>tf_idf score</th>\n",
       "    </tr>\n",
       "  </thead>\n",
       "  <tbody>\n",
       "    <tr>\n",
       "      <th>48592</th>\n",
       "      <td>what</td>\n",
       "      <td>1.932742</td>\n",
       "    </tr>\n",
       "    <tr>\n",
       "      <th>63676</th>\n",
       "      <td>the</td>\n",
       "      <td>1.971764</td>\n",
       "    </tr>\n",
       "    <tr>\n",
       "      <th>21111</th>\n",
       "      <td>is</td>\n",
       "      <td>2.154115</td>\n",
       "    </tr>\n",
       "    <tr>\n",
       "      <th>50861</th>\n",
       "      <td>how</td>\n",
       "      <td>2.323318</td>\n",
       "    </tr>\n",
       "    <tr>\n",
       "      <th>21150</th>\n",
       "      <td>in</td>\n",
       "      <td>2.505323</td>\n",
       "    </tr>\n",
       "    <tr>\n",
       "      <th>35751</th>\n",
       "      <td>to</td>\n",
       "      <td>2.527556</td>\n",
       "    </tr>\n",
       "    <tr>\n",
       "      <th>62265</th>\n",
       "      <td>do</td>\n",
       "      <td>2.671183</td>\n",
       "    </tr>\n",
       "    <tr>\n",
       "      <th>31989</th>\n",
       "      <td>of</td>\n",
       "      <td>2.724295</td>\n",
       "    </tr>\n",
       "    <tr>\n",
       "      <th>58400</th>\n",
       "      <td>are</td>\n",
       "      <td>2.741491</td>\n",
       "    </tr>\n",
       "    <tr>\n",
       "      <th>30940</th>\n",
       "      <td>and</td>\n",
       "      <td>2.883788</td>\n",
       "    </tr>\n",
       "    <tr>\n",
       "      <th>...</th>\n",
       "      <td>...</td>\n",
       "      <td>...</td>\n",
       "    </tr>\n",
       "    <tr>\n",
       "      <th>38332</th>\n",
       "      <td>meshed</td>\n",
       "      <td>13.504424</td>\n",
       "    </tr>\n",
       "    <tr>\n",
       "      <th>38316</th>\n",
       "      <td>mvr</td>\n",
       "      <td>13.504424</td>\n",
       "    </tr>\n",
       "    <tr>\n",
       "      <th>9294</th>\n",
       "      <td>neuritis</td>\n",
       "      <td>13.504424</td>\n",
       "    </tr>\n",
       "    <tr>\n",
       "      <th>38320</th>\n",
       "      <td>isfps</td>\n",
       "      <td>13.504424</td>\n",
       "    </tr>\n",
       "    <tr>\n",
       "      <th>38322</th>\n",
       "      <td>monoplane</td>\n",
       "      <td>13.504424</td>\n",
       "    </tr>\n",
       "    <tr>\n",
       "      <th>38323</th>\n",
       "      <td>caprice</td>\n",
       "      <td>13.504424</td>\n",
       "    </tr>\n",
       "    <tr>\n",
       "      <th>38327</th>\n",
       "      <td>regress</td>\n",
       "      <td>13.504424</td>\n",
       "    </tr>\n",
       "    <tr>\n",
       "      <th>38328</th>\n",
       "      <td>poojary</td>\n",
       "      <td>13.504424</td>\n",
       "    </tr>\n",
       "    <tr>\n",
       "      <th>38318</th>\n",
       "      <td>misdeameanor</td>\n",
       "      <td>13.504424</td>\n",
       "    </tr>\n",
       "    <tr>\n",
       "      <th>0</th>\n",
       "      <td>umtc</td>\n",
       "      <td>13.504424</td>\n",
       "    </tr>\n",
       "  </tbody>\n",
       "</table>\n",
       "<p>67339 rows × 2 columns</p>\n",
       "</div>"
      ],
      "text/plain": [
       "              words  tf_idf score\n",
       "48592          what      1.932742\n",
       "63676           the      1.971764\n",
       "21111            is      2.154115\n",
       "50861           how      2.323318\n",
       "21150            in      2.505323\n",
       "35751            to      2.527556\n",
       "62265            do      2.671183\n",
       "31989            of      2.724295\n",
       "58400           are      2.741491\n",
       "30940           and      2.883788\n",
       "...             ...           ...\n",
       "38332        meshed     13.504424\n",
       "38316           mvr     13.504424\n",
       "9294       neuritis     13.504424\n",
       "38320         isfps     13.504424\n",
       "38322     monoplane     13.504424\n",
       "38323       caprice     13.504424\n",
       "38327       regress     13.504424\n",
       "38328       poojary     13.504424\n",
       "38318  misdeameanor     13.504424\n",
       "0              umtc     13.504424\n",
       "\n",
       "[67339 rows x 2 columns]"
      ]
     },
     "execution_count": 79,
     "metadata": {},
     "output_type": "execute_result"
    }
   ],
   "source": [
    "tf_idf_weights.sort_values(by = ['tf_idf score'])"
   ]
  },
  {
   "cell_type": "markdown",
   "metadata": {},
   "source": [
    "## Submisson"
   ]
  },
  {
   "cell_type": "code",
   "execution_count": 263,
   "metadata": {
    "collapsed": false,
    "scrolled": true
   },
   "outputs": [
    {
     "data": {
      "text/html": [
       "<div>\n",
       "<table border=\"1\" class=\"dataframe\">\n",
       "  <thead>\n",
       "    <tr style=\"text-align: right;\">\n",
       "      <th></th>\n",
       "      <th>test_id</th>\n",
       "      <th>question1</th>\n",
       "      <th>question2</th>\n",
       "    </tr>\n",
       "  </thead>\n",
       "  <tbody>\n",
       "    <tr>\n",
       "      <th>0</th>\n",
       "      <td>0</td>\n",
       "      <td>How does the Surface Pro himself 4 compare wit...</td>\n",
       "      <td>Why did Microsoft choose core m3 and not core ...</td>\n",
       "    </tr>\n",
       "    <tr>\n",
       "      <th>1</th>\n",
       "      <td>1</td>\n",
       "      <td>Should I have a hair transplant at age 24? How...</td>\n",
       "      <td>How much cost does hair transplant require?</td>\n",
       "    </tr>\n",
       "    <tr>\n",
       "      <th>2</th>\n",
       "      <td>2</td>\n",
       "      <td>What but is the best way to send money from Ch...</td>\n",
       "      <td>What you send money to China?</td>\n",
       "    </tr>\n",
       "    <tr>\n",
       "      <th>3</th>\n",
       "      <td>3</td>\n",
       "      <td>Which food not emulsifiers?</td>\n",
       "      <td>What foods fibre?</td>\n",
       "    </tr>\n",
       "    <tr>\n",
       "      <th>4</th>\n",
       "      <td>4</td>\n",
       "      <td>How \"aberystwyth\" start reading?</td>\n",
       "      <td>How their can I start reading?</td>\n",
       "    </tr>\n",
       "  </tbody>\n",
       "</table>\n",
       "</div>"
      ],
      "text/plain": [
       "   test_id                                          question1  \\\n",
       "0        0  How does the Surface Pro himself 4 compare wit...   \n",
       "1        1  Should I have a hair transplant at age 24? How...   \n",
       "2        2  What but is the best way to send money from Ch...   \n",
       "3        3                        Which food not emulsifiers?   \n",
       "4        4                   How \"aberystwyth\" start reading?   \n",
       "\n",
       "                                           question2  \n",
       "0  Why did Microsoft choose core m3 and not core ...  \n",
       "1        How much cost does hair transplant require?  \n",
       "2                      What you send money to China?  \n",
       "3                                  What foods fibre?  \n",
       "4                     How their can I start reading?  "
      ]
     },
     "execution_count": 263,
     "metadata": {},
     "output_type": "execute_result"
    }
   ],
   "source": [
    "test_qs.head()"
   ]
  },
  {
   "cell_type": "code",
   "execution_count": 279,
   "metadata": {
    "collapsed": false
   },
   "outputs": [],
   "source": [
    "submission = pd.DataFrame(test_qs['test_id'])\n",
    "submission['is_duplicate'] = train_qs['is_duplicate'].mean()\n",
    "submission.to_csv('submission_2.csv',index=False)"
   ]
  },
  {
   "cell_type": "code",
   "execution_count": 278,
   "metadata": {
    "collapsed": false
   },
   "outputs": [
    {
     "data": {
      "text/plain": [
       "0.369197853026293"
      ]
     },
     "execution_count": 278,
     "metadata": {},
     "output_type": "execute_result"
    }
   ],
   "source": []
  },
  {
   "cell_type": "code",
   "execution_count": null,
   "metadata": {
    "collapsed": true
   },
   "outputs": [],
   "source": []
  }
 ],
 "metadata": {
  "kernelspec": {
   "display_name": "Python 2",
   "language": "python",
   "name": "python2"
  },
  "language_info": {
   "codemirror_mode": {
    "name": "ipython",
    "version": 2
   },
   "file_extension": ".py",
   "mimetype": "text/x-python",
   "name": "python",
   "nbconvert_exporter": "python",
   "pygments_lexer": "ipython2",
   "version": "2.7.11"
  }
 },
 "nbformat": 4,
 "nbformat_minor": 0
}
